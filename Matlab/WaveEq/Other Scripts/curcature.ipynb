{
 "cells": [
  {
   "cell_type": "code",
   "execution_count": 2,
   "metadata": {},
   "outputs": [],
   "source": [
    "import sympy\n",
    "\n",
    "sympy.init_printing(use_latex=True)\n",
    "\n"
   ]
  },
  {
   "cell_type": "code",
   "execution_count": 6,
   "metadata": {},
   "outputs": [
    {
     "name": "stdout",
     "output_type": "stream",
     "text": [
      "\\frac{1}{dr^{2} \\left(1 + \\frac{\\left(x - z\\right)^{2}}{4 dr^{2}}\\right)^{\\frac{3}{2}}} - \\frac{1}{2 dr^{2} i \\sqrt{1 + \\frac{\\left(x - z\\right)^{2}}{4 dr^{2}}}} - \\frac{3 \\left(- 2 x + 2 z\\right) \\left(x - 2 y + z\\right)}{8 dr^{4} \\left(1 + \\frac{\\left(x - z\\right)^{2}}{4 dr^{2}}\\right)^{\\frac{5}{2}}} - \\frac{\\left(- 2 x + 2 z\\right) \\left(x - z\\right)}{16 dr^{4} i \\left(1 + \\frac{\\left(x - z\\right)^{2}}{4 dr^{2}}\\right)^{\\frac{3}{2}}}\n"
     ]
    }
   ],
   "source": [
    "\n",
    "etakip1 = sympy.Symbol('x')\n",
    "etaki = sympy.Symbol('y')\n",
    "etakim1 = sympy.Symbol('z')\n",
    "dr = sympy.Symbol('dr')\n",
    "i = sympy.Symbol('i', integer = True)\n",
    "oh = sympy.Rational(1, 2)\n",
    "th = sympy.Rational(3, 2)\n",
    "\n",
    "\n",
    "first_derivative = (etakip1 - etakim1)/(2*dr)\n",
    "blue = (etakip1 - 2*etaki + etakim1)/(dr**2)\n",
    "green = (1+ first_derivative**2)**(th)\n",
    "orange = first_derivative\n",
    "light_blue = i*dr*(1+first_derivative**2)**(oh)\n",
    "\n",
    "curvature = blue/green + orange/light_blue\n",
    "print(sympy.latex(sympy.diff(curvature, etakim1)))"
   ]
  }
 ],
 "metadata": {
  "interpreter": {
   "hash": "cf49e42d8ae526647a552259a46dfa8f53ce985d9771a2498166807dc176ee60"
  },
  "kernelspec": {
   "display_name": "Python 3.9.4 64-bit",
   "language": "python",
   "name": "python3"
  },
  "language_info": {
   "codemirror_mode": {
    "name": "ipython",
    "version": 3
   },
   "file_extension": ".py",
   "mimetype": "text/x-python",
   "name": "python",
   "nbconvert_exporter": "python",
   "pygments_lexer": "ipython3",
   "version": "3.9.4"
  },
  "orig_nbformat": 4
 },
 "nbformat": 4,
 "nbformat_minor": 2
}
